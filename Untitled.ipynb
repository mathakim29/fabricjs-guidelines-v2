{
 "cells": [
  {
   "cell_type": "code",
   "execution_count": 1,
   "id": "996f9af7-ae7f-403d-97e5-c1f3720942a9",
   "metadata": {},
   "outputs": [],
   "source": [
    "from IPython.display import IFrame # Embed a website (width, height in pixels) IFrame(src=\"https://www.example.com\", width=800, height=500)"
   ]
  },
  {
   "cell_type": "code",
   "execution_count": 2,
   "id": "8b220507-216b-49c8-b835-019874a53692",
   "metadata": {},
   "outputs": [
    {
     "data": {
      "text/html": [
       "\n",
       "        <iframe\n",
       "            width=\"800\"\n",
       "            height=\"500\"\n",
       "            src=\"https://www.example.com\"\n",
       "            frameborder=\"0\"\n",
       "            allowfullscreen\n",
       "            \n",
       "        ></iframe>\n",
       "        "
      ],
      "text/plain": [
       "<IPython.lib.display.IFrame at 0x7f0881e3e270>"
      ]
     },
     "execution_count": 2,
     "metadata": {},
     "output_type": "execute_result"
    }
   ],
   "source": [
    "IFrame(src=\"https://www.example.com\", width=800, height=500)\n",
    "\n"
   ]
  },
  {
   "cell_type": "code",
   "execution_count": null,
   "id": "b002923f-1dfe-41e6-90eb-e430dcf5cc3e",
   "metadata": {},
   "outputs": [],
   "source": []
  }
 ],
 "metadata": {
  "kernelspec": {
   "display_name": "Python 3 (ipykernel)",
   "language": "python",
   "name": "python3"
  },
  "language_info": {
   "codemirror_mode": {
    "name": "ipython",
    "version": 3
   },
   "file_extension": ".py",
   "mimetype": "text/x-python",
   "name": "python",
   "nbconvert_exporter": "python",
   "pygments_lexer": "ipython3",
   "version": "3.13.2"
  }
 },
 "nbformat": 4,
 "nbformat_minor": 5
}
